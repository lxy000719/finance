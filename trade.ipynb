{
 "cells": [
  {
   "cell_type": "code",
   "execution_count": null,
   "metadata": {},
   "outputs": [],
   "source": []
  },
  {
   "cell_type": "code",
   "execution_count": 3,
   "metadata": {},
   "outputs": [],
   "source": [
    "from moomoo import *"
   ]
  },
  {
   "cell_type": "code",
   "execution_count": 13,
   "metadata": {},
   "outputs": [
    {
     "name": "stdout",
     "output_type": "stream",
     "text": [
      "\u001b[0;30m2024-05-29 23:30:37,421 | 27213 | [open_context_base.py] _send_init_connect_sync:311: InitConnect ok: conn_id=10, host=127.0.0.1, port=11111, user_id=101791627\u001b[0m\n",
      "current subscription status : (0, {'total_used': 0, 'remain': 300, 'own_used': 0, 'sub_list': {}})\n",
      "subscription failed No right to subscribe NVDA\n"
     ]
    },
    {
     "name": "stdout",
     "output_type": "stream",
     "text": [
      "\u001b[0;30m2024-05-29 23:30:37,426 | 27213 | [open_context_base.py] on_disconnect:383: Disconnected: conn_id=10\u001b[0m\n",
      "\u001b[0;33m2024-05-30 00:19:01,837 | 27213 | [open_context_base.py] on_disconnect:386: Disconnected: conn_id=9 reason=CloseReason.RemoteClose msg=\u001b[0m\n",
      "\u001b[0;30m2024-05-30 00:19:01,840 | 27213 | [open_context_base.py] _wait_reconnect:482: Wait reconnect in 8 seconds: host=127.0.0.1; port=11111;\u001b[0m\n"
     ]
    }
   ],
   "source": [
    "from moomoo import *\n",
    "import time\n",
    "quote_ctx = OpenQuoteContext(host='127.0.0.1', port=11111)\n",
    "\n",
    "print('current subscription status :', quote_ctx.query_subscription())  # 查询初始订阅状态\n",
    "ret_sub, err_message = quote_ctx.subscribe(['US.NVDA'], [SubType.QUOTE, SubType.TICKER], subscribe_push=False)\n",
    "# 先订阅了 QUOTE 和 TICKER 两个类型。订阅成功后 OpenD 将持续收到服务器的推送，False 代表暂时不需要推送给脚本\n",
    "if ret_sub == RET_OK:   # 订阅成功\n",
    "    print('subscribe successfully！current subscription status :', quote_ctx.query_subscription())  # 订阅成功后查询订阅状态\n",
    "    time.sleep(60)  # 订阅之后至少1分钟才能取消订阅\n",
    "    ret_unsub, err_message_unsub = quote_ctx.unsubscribe(['HK.00700'], [SubType.QUOTE])\n",
    "    if ret_unsub == RET_OK:\n",
    "        print('unsubscribe successfully！current subscription status:', quote_ctx.query_subscription())  # 取消订阅后查询订阅状态\n",
    "    else:\n",
    "        print('unsubscription failed！', err_message_unsub)\n",
    "else:\n",
    "    print('subscription failed', err_message)\n",
    "quote_ctx.close() # 结束后记得关闭当条连接，防止连接条数用尽"
   ]
  },
  {
   "cell_type": "code",
   "execution_count": 12,
   "metadata": {},
   "outputs": [
    {
     "name": "stdout",
     "output_type": "stream",
     "text": [
      "\u001b[0;30m2024-05-29 23:29:16,001 | 27213 | [open_context_base.py] _send_init_connect_sync:311: InitConnect ok: conn_id=9, host=127.0.0.1, port=11111, user_id=101791627\u001b[0m\n",
      "current subscription status : (0, {'total_used': 0, 'remain': 300, 'own_used': 0, 'sub_list': {}})\n"
     ]
    }
   ],
   "source": [
    "from moomoo import *\n",
    "import time\n",
    "quote_ctx = OpenQuoteContext(host='127.0.0.1', port=11111)\n",
    "\n",
    "print('current subscription status :', quote_ctx.query_subscription())  # 查询初始订阅状态\n",
    "#ret_sub, err_message = quote_ctx.subscribe(['HK.00700'], [SubType.QUOTE, SubType.TICKER], subscribe_push=False)"
   ]
  },
  {
   "cell_type": "code",
   "execution_count": 10,
   "metadata": {},
   "outputs": [
    {
     "name": "stdout",
     "output_type": "stream",
     "text": [
      "\u001b[0;30m2024-05-29 23:21:16,711 | 27213 | [open_context_base.py] _send_init_connect_sync:311: InitConnect ok: conn_id=7, host=127.0.0.1, port=11111, user_id=101791627\u001b[0m\n",
      "\u001b[0;30m2024-05-29 23:21:31,722 | 27213 | [open_context_base.py] on_disconnect:383: Disconnected: conn_id=7\u001b[0m\n"
     ]
    }
   ],
   "source": [
    "import time\n",
    "from moomoo import *\n",
    "class OrderBookTest(OrderBookHandlerBase):\n",
    "    def on_recv_rsp(self, rsp_pb):\n",
    "        ret_code, data = super(OrderBookTest,self).on_recv_rsp(rsp_pb)\n",
    "        if ret_code != RET_OK:\n",
    "            print(\"OrderBookTest: error, msg: %s\" % data)\n",
    "            return RET_ERROR, data\n",
    "        print(\"OrderBookTest \", data) # OrderBookTest 自己的处理逻辑\n",
    "        return RET_OK, data\n",
    "quote_ctx = OpenQuoteContext(host='127.0.0.1', port=11111)\n",
    "handler = OrderBookTest()\n",
    "quote_ctx.set_handler(handler)  # 设置实时摆盘回调\n",
    "quote_ctx.subscribe(['HK.00700'], [SubType.ORDER_BOOK])  # 订阅买卖摆盘类型，OpenD 开始持续收到服务器的推送\n",
    "time.sleep(15)  #  设置脚本接收 OpenD 的推送持续时间为15秒\n",
    "quote_ctx.close()  # 关闭当条连接，OpenD 会在1分钟后自动取消相应股票相应类型的订阅"
   ]
  },
  {
   "cell_type": "code",
   "execution_count": 11,
   "metadata": {},
   "outputs": [
    {
     "name": "stdout",
     "output_type": "stream",
     "text": [
      "\u001b[0;30m2024-05-29 23:26:46,969 | 27213 | [open_context_base.py] _send_init_connect_sync:311: InitConnect ok: conn_id=8, host=127.0.0.1, port=11111, user_id=101791627\u001b[0m\n",
      "(-1, 'No right to get this quote')\n",
      "\u001b[0;30m2024-05-29 23:26:46,971 | 27213 | [open_context_base.py] on_disconnect:383: Disconnected: conn_id=8\u001b[0m\n"
     ]
    }
   ],
   "source": [
    "quote_ctx = OpenQuoteContext(host='127.0.0.1', port=11111)  # 创建行情对象\n",
    "print(quote_ctx.get_market_snapshot('US.NVDA'))  # 获取港股 HK.00700 的快照数据\n",
    "quote_ctx.close() # 关闭对象，防止连接条数用尽"
   ]
  },
  {
   "cell_type": "code",
   "execution_count": 9,
   "metadata": {},
   "outputs": [
    {
     "name": "stdout",
     "output_type": "stream",
     "text": [
      "\u001b[0;30m2024-05-29 23:05:18,468 | 27213 | [open_context_base.py] _send_init_connect_sync:311: InitConnect ok: conn_id=6, host=127.0.0.1, port=11111, user_id=101791627\u001b[0m\n",
      "(0,        code stock_name trd_side order_type order_status order_id    qty  \\\n",
      "0  HK.00700    TENCENT      BUY     NORMAL   SUBMITTING  2215294  100.0   \n",
      "\n",
      "   price          create_time         updated_time  ...  dealt_avg_price  \\\n",
      "0  500.0  2024-05-29 23:05:18  2024-05-29 23:05:18  ...              0.0   \n",
      "\n",
      "   last_err_msg remark time_in_force fill_outside_rth aux_price trail_type  \\\n",
      "0                                DAY              N/A       N/A        N/A   \n",
      "\n",
      "  trail_value trail_spread currency  \n",
      "0         N/A          N/A      HKD  \n",
      "\n",
      "[1 rows x 21 columns])\n",
      "\u001b[0;30m2024-05-29 23:05:18,556 | 27213 | [open_context_base.py] on_disconnect:383: Disconnected: conn_id=6\u001b[0m\n"
     ]
    }
   ],
   "source": [
    "trd_ctx = OpenSecTradeContext(host='127.0.0.1', port=11111)  # 创建交易对象\n",
    "print(trd_ctx.place_order(price=500.0, qty=100, code=\"HK.00700\", trd_side=TrdSide.BUY, trd_env=TrdEnv.SIMULATE))  # 模拟交易，下单（如果是真实环境交易，在此之前需要先解锁交易密码）\n",
    "\n",
    "trd_ctx.close()  # 关闭对象，防止连接条数用尽"
   ]
  },
  {
   "cell_type": "code",
   "execution_count": null,
   "metadata": {},
   "outputs": [],
   "source": []
  }
 ],
 "metadata": {
  "kernelspec": {
   "display_name": ".venv",
   "language": "python",
   "name": "python3"
  },
  "language_info": {
   "codemirror_mode": {
    "name": "ipython",
    "version": 3
   },
   "file_extension": ".py",
   "mimetype": "text/x-python",
   "name": "python",
   "nbconvert_exporter": "python",
   "pygments_lexer": "ipython3",
   "version": "3.10.11"
  }
 },
 "nbformat": 4,
 "nbformat_minor": 2
}
