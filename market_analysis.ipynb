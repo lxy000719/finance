{
 "cells": [
  {
   "cell_type": "code",
   "execution_count": 179,
   "metadata": {},
   "outputs": [],
   "source": [
    "import sys\n",
    "import pandas as pd\n",
    "from openbb import obb\n",
    "from datetime import datetime\n",
    "from sqlalchemy import create_engine, MetaData, Table, Column, Integer, String, Date, Float\n",
    "from sqlalchemy.exc import SQLAlchemyError\n",
    "from sqlalchemy import inspect\n",
    "import yfinance as yf\n",
    "import plotly\n",
    "import plotly.graph_objects as go\n",
    "import ta\n",
    "import numpy as np\n",
    "import matplotlib.pyplot as plt\n",
    "import json\n"
   ]
  },
  {
   "cell_type": "code",
   "execution_count": 2,
   "metadata": {},
   "outputs": [
    {
     "name": "stdout",
     "output_type": "stream",
     "text": [
      "/Users/liuxingyu/project/finance/.venv\n",
      "/Users/liuxingyu/project/finance/.venv/bin/python\n"
     ]
    }
   ],
   "source": [
    "# check environment\n",
    "print(sys.prefix)\n",
    "print(sys.executable)"
   ]
  },
  {
   "cell_type": "code",
   "execution_count": 201,
   "metadata": {},
   "outputs": [],
   "source": [
    "# parameters\n",
    "symbol_list = ['NVDA']\n",
    "end_date = pd.Timestamp.now().tz_localize('Asia/Singapore').tz_convert('US/Eastern').strftime('%Y-%m-%d')\n",
    "start_date = '1900-01-01'\n",
    "interval = '1d'"
   ]
  },
  {
   "cell_type": "code",
   "execution_count": 202,
   "metadata": {},
   "outputs": [],
   "source": [
    "symbol = symbol_list[0]"
   ]
  },
  {
   "cell_type": "code",
   "execution_count": 204,
   "metadata": {},
   "outputs": [
    {
     "data": {
      "text/plain": [
       "yfinance.Ticker object <NVDA>"
      ]
     },
     "execution_count": 204,
     "metadata": {},
     "output_type": "execute_result"
    }
   ],
   "source": [
    "ticker_obj = yf.Ticker(symbol)\n",
    "ticker_obj"
   ]
  },
  {
   "cell_type": "code",
   "execution_count": 205,
   "metadata": {},
   "outputs": [],
   "source": [
    "ticker_obj.info['companyOfficers'] = json.dumps(ticker_obj.info['companyOfficers'])"
   ]
  },
  {
   "cell_type": "code",
   "execution_count": 207,
   "metadata": {},
   "outputs": [
    {
     "data": {
      "text/html": [
       "<div>\n",
       "<style scoped>\n",
       "    .dataframe tbody tr th:only-of-type {\n",
       "        vertical-align: middle;\n",
       "    }\n",
       "\n",
       "    .dataframe tbody tr th {\n",
       "        vertical-align: top;\n",
       "    }\n",
       "\n",
       "    .dataframe thead th {\n",
       "        text-align: right;\n",
       "    }\n",
       "</style>\n",
       "<table border=\"1\" class=\"dataframe\">\n",
       "  <thead>\n",
       "    <tr style=\"text-align: right;\">\n",
       "      <th></th>\n",
       "      <th>address1</th>\n",
       "      <th>city</th>\n",
       "      <th>state</th>\n",
       "      <th>zip</th>\n",
       "      <th>country</th>\n",
       "      <th>phone</th>\n",
       "      <th>website</th>\n",
       "      <th>industry</th>\n",
       "      <th>industryKey</th>\n",
       "      <th>industryDisp</th>\n",
       "      <th>...</th>\n",
       "      <th>returnOnEquity</th>\n",
       "      <th>freeCashflow</th>\n",
       "      <th>operatingCashflow</th>\n",
       "      <th>earningsGrowth</th>\n",
       "      <th>revenueGrowth</th>\n",
       "      <th>grossMargins</th>\n",
       "      <th>ebitdaMargins</th>\n",
       "      <th>operatingMargins</th>\n",
       "      <th>financialCurrency</th>\n",
       "      <th>trailingPegRatio</th>\n",
       "    </tr>\n",
       "  </thead>\n",
       "  <tbody>\n",
       "    <tr>\n",
       "      <th>0</th>\n",
       "      <td>2788 San Tomas Expressway</td>\n",
       "      <td>Santa Clara</td>\n",
       "      <td>CA</td>\n",
       "      <td>95051</td>\n",
       "      <td>United States</td>\n",
       "      <td>408 486 2000</td>\n",
       "      <td>https://www.nvidia.com</td>\n",
       "      <td>Semiconductors</td>\n",
       "      <td>semiconductors</td>\n",
       "      <td>Semiconductors</td>\n",
       "      <td>...</td>\n",
       "      <td>1.15658</td>\n",
       "      <td>29269749760</td>\n",
       "      <td>40524001280</td>\n",
       "      <td>6.293</td>\n",
       "      <td>2.621</td>\n",
       "      <td>0.75286</td>\n",
       "      <td>0.61768</td>\n",
       "      <td>0.64925</td>\n",
       "      <td>USD</td>\n",
       "      <td>1.3727</td>\n",
       "    </tr>\n",
       "  </tbody>\n",
       "</table>\n",
       "<p>1 rows × 132 columns</p>\n",
       "</div>"
      ],
      "text/plain": [
       "                    address1         city state    zip        country  \\\n",
       "0  2788 San Tomas Expressway  Santa Clara    CA  95051  United States   \n",
       "\n",
       "          phone                 website        industry     industryKey  \\\n",
       "0  408 486 2000  https://www.nvidia.com  Semiconductors  semiconductors   \n",
       "\n",
       "     industryDisp  ... returnOnEquity freeCashflow operatingCashflow  \\\n",
       "0  Semiconductors  ...        1.15658  29269749760       40524001280   \n",
       "\n",
       "  earningsGrowth  revenueGrowth grossMargins  ebitdaMargins  operatingMargins  \\\n",
       "0          6.293          2.621      0.75286        0.61768           0.64925   \n",
       "\n",
       "   financialCurrency  trailingPegRatio  \n",
       "0                USD            1.3727  \n",
       "\n",
       "[1 rows x 132 columns]"
      ]
     },
     "execution_count": 207,
     "metadata": {},
     "output_type": "execute_result"
    }
   ],
   "source": [
    "df_info = pd.DataFrame([ticker_obj.info])\n",
    "df_info"
   ]
  },
  {
   "cell_type": "code",
   "execution_count": 193,
   "metadata": {},
   "outputs": [],
   "source": [
    "# ticker_obj.history_metadata"
   ]
  },
  {
   "cell_type": "code",
   "execution_count": 209,
   "metadata": {},
   "outputs": [
    {
     "data": {
      "text/html": [
       "<div>\n",
       "<style scoped>\n",
       "    .dataframe tbody tr th:only-of-type {\n",
       "        vertical-align: middle;\n",
       "    }\n",
       "\n",
       "    .dataframe tbody tr th {\n",
       "        vertical-align: top;\n",
       "    }\n",
       "\n",
       "    .dataframe thead th {\n",
       "        text-align: right;\n",
       "    }\n",
       "</style>\n",
       "<table border=\"1\" class=\"dataframe\">\n",
       "  <thead>\n",
       "    <tr style=\"text-align: right;\">\n",
       "      <th></th>\n",
       "      <th>Dividends</th>\n",
       "      <th>Stock Splits</th>\n",
       "      <th>symbol</th>\n",
       "    </tr>\n",
       "    <tr>\n",
       "      <th>Date</th>\n",
       "      <th></th>\n",
       "      <th></th>\n",
       "      <th></th>\n",
       "    </tr>\n",
       "  </thead>\n",
       "  <tbody>\n",
       "    <tr>\n",
       "      <th>2000-06-27 00:00:00-04:00</th>\n",
       "      <td>0.00000</td>\n",
       "      <td>2.0</td>\n",
       "      <td>NVDA</td>\n",
       "    </tr>\n",
       "    <tr>\n",
       "      <th>2001-09-10 00:00:00-04:00</th>\n",
       "      <td>0.00000</td>\n",
       "      <td>2.0</td>\n",
       "      <td>NVDA</td>\n",
       "    </tr>\n",
       "    <tr>\n",
       "      <th>2006-04-07 00:00:00-04:00</th>\n",
       "      <td>0.00000</td>\n",
       "      <td>2.0</td>\n",
       "      <td>NVDA</td>\n",
       "    </tr>\n",
       "    <tr>\n",
       "      <th>2007-09-11 00:00:00-04:00</th>\n",
       "      <td>0.00000</td>\n",
       "      <td>1.5</td>\n",
       "      <td>NVDA</td>\n",
       "    </tr>\n",
       "    <tr>\n",
       "      <th>2012-11-20 00:00:00-05:00</th>\n",
       "      <td>0.01875</td>\n",
       "      <td>0.0</td>\n",
       "      <td>NVDA</td>\n",
       "    </tr>\n",
       "    <tr>\n",
       "      <th>2013-02-26 00:00:00-05:00</th>\n",
       "      <td>0.01875</td>\n",
       "      <td>0.0</td>\n",
       "      <td>NVDA</td>\n",
       "    </tr>\n",
       "    <tr>\n",
       "      <th>2013-05-21 00:00:00-04:00</th>\n",
       "      <td>0.01875</td>\n",
       "      <td>0.0</td>\n",
       "      <td>NVDA</td>\n",
       "    </tr>\n",
       "    <tr>\n",
       "      <th>2013-08-20 00:00:00-04:00</th>\n",
       "      <td>0.01875</td>\n",
       "      <td>0.0</td>\n",
       "      <td>NVDA</td>\n",
       "    </tr>\n",
       "    <tr>\n",
       "      <th>2013-11-19 00:00:00-05:00</th>\n",
       "      <td>0.02125</td>\n",
       "      <td>0.0</td>\n",
       "      <td>NVDA</td>\n",
       "    </tr>\n",
       "    <tr>\n",
       "      <th>2014-02-25 00:00:00-05:00</th>\n",
       "      <td>0.02125</td>\n",
       "      <td>0.0</td>\n",
       "      <td>NVDA</td>\n",
       "    </tr>\n",
       "    <tr>\n",
       "      <th>2014-05-20 00:00:00-04:00</th>\n",
       "      <td>0.02125</td>\n",
       "      <td>0.0</td>\n",
       "      <td>NVDA</td>\n",
       "    </tr>\n",
       "    <tr>\n",
       "      <th>2014-08-19 00:00:00-04:00</th>\n",
       "      <td>0.02125</td>\n",
       "      <td>0.0</td>\n",
       "      <td>NVDA</td>\n",
       "    </tr>\n",
       "    <tr>\n",
       "      <th>2014-11-19 00:00:00-05:00</th>\n",
       "      <td>0.02125</td>\n",
       "      <td>0.0</td>\n",
       "      <td>NVDA</td>\n",
       "    </tr>\n",
       "    <tr>\n",
       "      <th>2015-02-24 00:00:00-05:00</th>\n",
       "      <td>0.02125</td>\n",
       "      <td>0.0</td>\n",
       "      <td>NVDA</td>\n",
       "    </tr>\n",
       "    <tr>\n",
       "      <th>2015-05-19 00:00:00-04:00</th>\n",
       "      <td>0.02450</td>\n",
       "      <td>0.0</td>\n",
       "      <td>NVDA</td>\n",
       "    </tr>\n",
       "    <tr>\n",
       "      <th>2015-08-18 00:00:00-04:00</th>\n",
       "      <td>0.02450</td>\n",
       "      <td>0.0</td>\n",
       "      <td>NVDA</td>\n",
       "    </tr>\n",
       "    <tr>\n",
       "      <th>2015-11-18 00:00:00-05:00</th>\n",
       "      <td>0.02875</td>\n",
       "      <td>0.0</td>\n",
       "      <td>NVDA</td>\n",
       "    </tr>\n",
       "    <tr>\n",
       "      <th>2016-02-29 00:00:00-05:00</th>\n",
       "      <td>0.02875</td>\n",
       "      <td>0.0</td>\n",
       "      <td>NVDA</td>\n",
       "    </tr>\n",
       "    <tr>\n",
       "      <th>2016-05-24 00:00:00-04:00</th>\n",
       "      <td>0.02875</td>\n",
       "      <td>0.0</td>\n",
       "      <td>NVDA</td>\n",
       "    </tr>\n",
       "    <tr>\n",
       "      <th>2016-08-23 00:00:00-04:00</th>\n",
       "      <td>0.02875</td>\n",
       "      <td>0.0</td>\n",
       "      <td>NVDA</td>\n",
       "    </tr>\n",
       "    <tr>\n",
       "      <th>2016-11-23 00:00:00-05:00</th>\n",
       "      <td>0.03500</td>\n",
       "      <td>0.0</td>\n",
       "      <td>NVDA</td>\n",
       "    </tr>\n",
       "    <tr>\n",
       "      <th>2017-02-22 00:00:00-05:00</th>\n",
       "      <td>0.03500</td>\n",
       "      <td>0.0</td>\n",
       "      <td>NVDA</td>\n",
       "    </tr>\n",
       "    <tr>\n",
       "      <th>2017-05-19 00:00:00-04:00</th>\n",
       "      <td>0.03500</td>\n",
       "      <td>0.0</td>\n",
       "      <td>NVDA</td>\n",
       "    </tr>\n",
       "    <tr>\n",
       "      <th>2017-08-22 00:00:00-04:00</th>\n",
       "      <td>0.03500</td>\n",
       "      <td>0.0</td>\n",
       "      <td>NVDA</td>\n",
       "    </tr>\n",
       "    <tr>\n",
       "      <th>2017-11-22 00:00:00-05:00</th>\n",
       "      <td>0.03750</td>\n",
       "      <td>0.0</td>\n",
       "      <td>NVDA</td>\n",
       "    </tr>\n",
       "    <tr>\n",
       "      <th>2018-02-22 00:00:00-05:00</th>\n",
       "      <td>0.03750</td>\n",
       "      <td>0.0</td>\n",
       "      <td>NVDA</td>\n",
       "    </tr>\n",
       "    <tr>\n",
       "      <th>2018-05-23 00:00:00-04:00</th>\n",
       "      <td>0.03750</td>\n",
       "      <td>0.0</td>\n",
       "      <td>NVDA</td>\n",
       "    </tr>\n",
       "    <tr>\n",
       "      <th>2018-08-29 00:00:00-04:00</th>\n",
       "      <td>0.03750</td>\n",
       "      <td>0.0</td>\n",
       "      <td>NVDA</td>\n",
       "    </tr>\n",
       "    <tr>\n",
       "      <th>2018-11-29 00:00:00-05:00</th>\n",
       "      <td>0.04000</td>\n",
       "      <td>0.0</td>\n",
       "      <td>NVDA</td>\n",
       "    </tr>\n",
       "    <tr>\n",
       "      <th>2019-02-28 00:00:00-05:00</th>\n",
       "      <td>0.04000</td>\n",
       "      <td>0.0</td>\n",
       "      <td>NVDA</td>\n",
       "    </tr>\n",
       "    <tr>\n",
       "      <th>2019-05-30 00:00:00-04:00</th>\n",
       "      <td>0.04000</td>\n",
       "      <td>0.0</td>\n",
       "      <td>NVDA</td>\n",
       "    </tr>\n",
       "    <tr>\n",
       "      <th>2019-08-28 00:00:00-04:00</th>\n",
       "      <td>0.04000</td>\n",
       "      <td>0.0</td>\n",
       "      <td>NVDA</td>\n",
       "    </tr>\n",
       "    <tr>\n",
       "      <th>2019-11-27 00:00:00-05:00</th>\n",
       "      <td>0.04000</td>\n",
       "      <td>0.0</td>\n",
       "      <td>NVDA</td>\n",
       "    </tr>\n",
       "    <tr>\n",
       "      <th>2020-02-27 00:00:00-05:00</th>\n",
       "      <td>0.04000</td>\n",
       "      <td>0.0</td>\n",
       "      <td>NVDA</td>\n",
       "    </tr>\n",
       "    <tr>\n",
       "      <th>2020-06-04 00:00:00-04:00</th>\n",
       "      <td>0.04000</td>\n",
       "      <td>0.0</td>\n",
       "      <td>NVDA</td>\n",
       "    </tr>\n",
       "    <tr>\n",
       "      <th>2020-09-01 00:00:00-04:00</th>\n",
       "      <td>0.04000</td>\n",
       "      <td>0.0</td>\n",
       "      <td>NVDA</td>\n",
       "    </tr>\n",
       "    <tr>\n",
       "      <th>2020-12-03 00:00:00-05:00</th>\n",
       "      <td>0.04000</td>\n",
       "      <td>0.0</td>\n",
       "      <td>NVDA</td>\n",
       "    </tr>\n",
       "    <tr>\n",
       "      <th>2021-03-09 00:00:00-05:00</th>\n",
       "      <td>0.04000</td>\n",
       "      <td>0.0</td>\n",
       "      <td>NVDA</td>\n",
       "    </tr>\n",
       "    <tr>\n",
       "      <th>2021-06-09 00:00:00-04:00</th>\n",
       "      <td>0.04000</td>\n",
       "      <td>0.0</td>\n",
       "      <td>NVDA</td>\n",
       "    </tr>\n",
       "    <tr>\n",
       "      <th>2021-07-20 00:00:00-04:00</th>\n",
       "      <td>0.00000</td>\n",
       "      <td>4.0</td>\n",
       "      <td>NVDA</td>\n",
       "    </tr>\n",
       "    <tr>\n",
       "      <th>2021-08-31 00:00:00-04:00</th>\n",
       "      <td>0.04000</td>\n",
       "      <td>0.0</td>\n",
       "      <td>NVDA</td>\n",
       "    </tr>\n",
       "    <tr>\n",
       "      <th>2021-12-01 00:00:00-05:00</th>\n",
       "      <td>0.04000</td>\n",
       "      <td>0.0</td>\n",
       "      <td>NVDA</td>\n",
       "    </tr>\n",
       "    <tr>\n",
       "      <th>2022-03-02 00:00:00-05:00</th>\n",
       "      <td>0.04000</td>\n",
       "      <td>0.0</td>\n",
       "      <td>NVDA</td>\n",
       "    </tr>\n",
       "    <tr>\n",
       "      <th>2022-06-08 00:00:00-04:00</th>\n",
       "      <td>0.04000</td>\n",
       "      <td>0.0</td>\n",
       "      <td>NVDA</td>\n",
       "    </tr>\n",
       "    <tr>\n",
       "      <th>2022-09-07 00:00:00-04:00</th>\n",
       "      <td>0.04000</td>\n",
       "      <td>0.0</td>\n",
       "      <td>NVDA</td>\n",
       "    </tr>\n",
       "    <tr>\n",
       "      <th>2022-11-30 00:00:00-05:00</th>\n",
       "      <td>0.04000</td>\n",
       "      <td>0.0</td>\n",
       "      <td>NVDA</td>\n",
       "    </tr>\n",
       "    <tr>\n",
       "      <th>2023-03-07 00:00:00-05:00</th>\n",
       "      <td>0.04000</td>\n",
       "      <td>0.0</td>\n",
       "      <td>NVDA</td>\n",
       "    </tr>\n",
       "    <tr>\n",
       "      <th>2023-06-07 00:00:00-04:00</th>\n",
       "      <td>0.04000</td>\n",
       "      <td>0.0</td>\n",
       "      <td>NVDA</td>\n",
       "    </tr>\n",
       "    <tr>\n",
       "      <th>2023-09-06 00:00:00-04:00</th>\n",
       "      <td>0.04000</td>\n",
       "      <td>0.0</td>\n",
       "      <td>NVDA</td>\n",
       "    </tr>\n",
       "    <tr>\n",
       "      <th>2023-12-05 00:00:00-05:00</th>\n",
       "      <td>0.04000</td>\n",
       "      <td>0.0</td>\n",
       "      <td>NVDA</td>\n",
       "    </tr>\n",
       "    <tr>\n",
       "      <th>2024-03-05 00:00:00-05:00</th>\n",
       "      <td>0.04000</td>\n",
       "      <td>0.0</td>\n",
       "      <td>NVDA</td>\n",
       "    </tr>\n",
       "  </tbody>\n",
       "</table>\n",
       "</div>"
      ],
      "text/plain": [
       "                           Dividends  Stock Splits symbol\n",
       "Date                                                     \n",
       "2000-06-27 00:00:00-04:00    0.00000           2.0   NVDA\n",
       "2001-09-10 00:00:00-04:00    0.00000           2.0   NVDA\n",
       "2006-04-07 00:00:00-04:00    0.00000           2.0   NVDA\n",
       "2007-09-11 00:00:00-04:00    0.00000           1.5   NVDA\n",
       "2012-11-20 00:00:00-05:00    0.01875           0.0   NVDA\n",
       "2013-02-26 00:00:00-05:00    0.01875           0.0   NVDA\n",
       "2013-05-21 00:00:00-04:00    0.01875           0.0   NVDA\n",
       "2013-08-20 00:00:00-04:00    0.01875           0.0   NVDA\n",
       "2013-11-19 00:00:00-05:00    0.02125           0.0   NVDA\n",
       "2014-02-25 00:00:00-05:00    0.02125           0.0   NVDA\n",
       "2014-05-20 00:00:00-04:00    0.02125           0.0   NVDA\n",
       "2014-08-19 00:00:00-04:00    0.02125           0.0   NVDA\n",
       "2014-11-19 00:00:00-05:00    0.02125           0.0   NVDA\n",
       "2015-02-24 00:00:00-05:00    0.02125           0.0   NVDA\n",
       "2015-05-19 00:00:00-04:00    0.02450           0.0   NVDA\n",
       "2015-08-18 00:00:00-04:00    0.02450           0.0   NVDA\n",
       "2015-11-18 00:00:00-05:00    0.02875           0.0   NVDA\n",
       "2016-02-29 00:00:00-05:00    0.02875           0.0   NVDA\n",
       "2016-05-24 00:00:00-04:00    0.02875           0.0   NVDA\n",
       "2016-08-23 00:00:00-04:00    0.02875           0.0   NVDA\n",
       "2016-11-23 00:00:00-05:00    0.03500           0.0   NVDA\n",
       "2017-02-22 00:00:00-05:00    0.03500           0.0   NVDA\n",
       "2017-05-19 00:00:00-04:00    0.03500           0.0   NVDA\n",
       "2017-08-22 00:00:00-04:00    0.03500           0.0   NVDA\n",
       "2017-11-22 00:00:00-05:00    0.03750           0.0   NVDA\n",
       "2018-02-22 00:00:00-05:00    0.03750           0.0   NVDA\n",
       "2018-05-23 00:00:00-04:00    0.03750           0.0   NVDA\n",
       "2018-08-29 00:00:00-04:00    0.03750           0.0   NVDA\n",
       "2018-11-29 00:00:00-05:00    0.04000           0.0   NVDA\n",
       "2019-02-28 00:00:00-05:00    0.04000           0.0   NVDA\n",
       "2019-05-30 00:00:00-04:00    0.04000           0.0   NVDA\n",
       "2019-08-28 00:00:00-04:00    0.04000           0.0   NVDA\n",
       "2019-11-27 00:00:00-05:00    0.04000           0.0   NVDA\n",
       "2020-02-27 00:00:00-05:00    0.04000           0.0   NVDA\n",
       "2020-06-04 00:00:00-04:00    0.04000           0.0   NVDA\n",
       "2020-09-01 00:00:00-04:00    0.04000           0.0   NVDA\n",
       "2020-12-03 00:00:00-05:00    0.04000           0.0   NVDA\n",
       "2021-03-09 00:00:00-05:00    0.04000           0.0   NVDA\n",
       "2021-06-09 00:00:00-04:00    0.04000           0.0   NVDA\n",
       "2021-07-20 00:00:00-04:00    0.00000           4.0   NVDA\n",
       "2021-08-31 00:00:00-04:00    0.04000           0.0   NVDA\n",
       "2021-12-01 00:00:00-05:00    0.04000           0.0   NVDA\n",
       "2022-03-02 00:00:00-05:00    0.04000           0.0   NVDA\n",
       "2022-06-08 00:00:00-04:00    0.04000           0.0   NVDA\n",
       "2022-09-07 00:00:00-04:00    0.04000           0.0   NVDA\n",
       "2022-11-30 00:00:00-05:00    0.04000           0.0   NVDA\n",
       "2023-03-07 00:00:00-05:00    0.04000           0.0   NVDA\n",
       "2023-06-07 00:00:00-04:00    0.04000           0.0   NVDA\n",
       "2023-09-06 00:00:00-04:00    0.04000           0.0   NVDA\n",
       "2023-12-05 00:00:00-05:00    0.04000           0.0   NVDA\n",
       "2024-03-05 00:00:00-05:00    0.04000           0.0   NVDA"
      ]
     },
     "execution_count": 209,
     "metadata": {},
     "output_type": "execute_result"
    }
   ],
   "source": [
    "df_actions = ticker_obj.actions\n",
    "df_actions['symbol'] = symbol\n",
    "df_actions"
   ]
  },
  {
   "cell_type": "code",
   "execution_count": 213,
   "metadata": {},
   "outputs": [],
   "source": [
    "# pd.DataFrame(ticker_obj.get_shares_full(start=start_date, end=end_date))"
   ]
  },
  {
   "cell_type": "code",
   "execution_count": 214,
   "metadata": {},
   "outputs": [],
   "source": [
    "df_quarterly_income_stmt = ticker_obj.quarterly_income_stmt.transpose()"
   ]
  },
  {
   "cell_type": "code",
   "execution_count": 215,
   "metadata": {},
   "outputs": [],
   "source": [
    "df_quarterly_balance_sheet = ticker_obj.quarterly_balance_sheet.transpose()"
   ]
  },
  {
   "cell_type": "code",
   "execution_count": 216,
   "metadata": {},
   "outputs": [],
   "source": [
    "df_quarterly_cashflow = ticker_obj.quarterly_cashflow.transpose()"
   ]
  },
  {
   "cell_type": "code",
   "execution_count": 219,
   "metadata": {},
   "outputs": [],
   "source": [
    "df_recommendations_summary = ticker_obj.recommendations_summary"
   ]
  },
  {
   "cell_type": "code",
   "execution_count": 221,
   "metadata": {},
   "outputs": [],
   "source": [
    "df_upgrades_downgrades = ticker_obj.upgrades_downgrades"
   ]
  },
  {
   "cell_type": "code",
   "execution_count": 223,
   "metadata": {},
   "outputs": [],
   "source": [
    "df_get_earnings_dates = ticker_obj.get_earnings_dates(limit=1000)"
   ]
  },
  {
   "cell_type": "code",
   "execution_count": 224,
   "metadata": {},
   "outputs": [],
   "source": [
    "df_news = pd.DataFrame(ticker_obj.news)"
   ]
  },
  {
   "cell_type": "code",
   "execution_count": 225,
   "metadata": {},
   "outputs": [
    {
     "name": "stderr",
     "output_type": "stream",
     "text": [
      "[*********************100%%**********************]  1 of 1 completed\n"
     ]
    }
   ],
   "source": [
    "# start_date and end_date default is 99 years and now if set none\n",
    "data_historical = yf.download(symbol, interval='1d', period='max', actions='True')"
   ]
  },
  {
   "cell_type": "code",
   "execution_count": 226,
   "metadata": {},
   "outputs": [],
   "source": [
    "# Calculate RSI\n",
    "data_historical[\"RSI\"] = ta.momentum.RSIIndicator(data_historical[\"Close\"]).rsi()\n",
    "\n",
    "# Calculate Bollinger Bands\n",
    "bbands = ta.volatility.BollingerBands(data_historical[\"Close\"])\n",
    "data_historical[\"BB_upper\"] = bbands.bollinger_hband()\n",
    "data_historical[\"BB_lower\"] = bbands.bollinger_lband()\n",
    "\n",
    "# Calculate MACD\n",
    "macd = ta.trend.MACD(data_historical[\"Close\"])\n",
    "data_historical[\"MACD\"] = macd.macd()\n",
    "data_historical[\"MACD_signal\"] = macd.macd_signal()\n",
    "\n",
    "# Calculate percentage change\n",
    "data_historical['pct_change'] = data_historical['Adj Close'].pct_change()"
   ]
  },
  {
   "cell_type": "code",
   "execution_count": 145,
   "metadata": {},
   "outputs": [
    {
     "data": {
      "text/plain": [
       "132.18454921550298"
      ]
     },
     "execution_count": 145,
     "metadata": {},
     "output_type": "execute_result"
    }
   ],
   "source": [
    "data_historical['Adj Close'].std()"
   ]
  },
  {
   "cell_type": "code",
   "execution_count": 147,
   "metadata": {},
   "outputs": [
    {
     "data": {
      "text/plain": [
       "0.001963128802939846"
      ]
     },
     "execution_count": 147,
     "metadata": {},
     "output_type": "execute_result"
    }
   ],
   "source": [
    "data_historical['pct_change'].mean()"
   ]
  },
  {
   "cell_type": "code",
   "execution_count": 148,
   "metadata": {},
   "outputs": [
    {
     "data": {
      "text/plain": [
       "0.03788428402534732"
      ]
     },
     "execution_count": 148,
     "metadata": {},
     "output_type": "execute_result"
    }
   ],
   "source": [
    "# np.sqrt(((data_historical['pct_change'] - data_historical['pct_change'].mean())**2).mean())\n",
    "data_historical['pct_change'].std()"
   ]
  },
  {
   "cell_type": "code",
   "execution_count": 149,
   "metadata": {},
   "outputs": [
    {
     "data": {
      "text/plain": [
       "0.6049635021295602"
      ]
     },
     "execution_count": 149,
     "metadata": {},
     "output_type": "execute_result"
    }
   ],
   "source": [
    "# assume 252 trading days per year\n",
    "annualized_volatility = data_historical['pct_change'].std()*np.sqrt(255)\n",
    "annualized_volatility"
   ]
  },
  {
   "cell_type": "code",
   "execution_count": 150,
   "metadata": {},
   "outputs": [
    {
     "data": {
      "text/plain": [
       "0.0012509399742193228"
      ]
     },
     "execution_count": 150,
     "metadata": {},
     "output_type": "execute_result"
    }
   ],
   "source": [
    "# average daily return as geometric mean\n",
    "returns_per_day = (data_historical['pct_change']+1).prod()**(1/data_historical.shape[0])-1\n",
    "returns_per_day"
   ]
  },
  {
   "cell_type": "code",
   "execution_count": 151,
   "metadata": {},
   "outputs": [
    {
     "data": {
      "text/plain": [
       "0.37031393959676717"
      ]
     },
     "execution_count": 151,
     "metadata": {},
     "output_type": "execute_result"
    }
   ],
   "source": [
    "# calculate annualized return\n",
    "annualized_return = (returns_per_day+1)**252-1\n",
    "annualized_return"
   ]
  },
  {
   "cell_type": "code",
   "execution_count": 152,
   "metadata": {},
   "outputs": [
    {
     "data": {
      "text/plain": [
       "0.5625363156600559"
      ]
     },
     "execution_count": 152,
     "metadata": {},
     "output_type": "execute_result"
    }
   ],
   "source": [
    "# assume a constant risk free rate\n",
    "riskfree_rate = 0.03\n",
    "excess_return = annualized_return - riskfree_rate\n",
    "sharpe_ratio = excess_return/annualized_volatility\n",
    "sharpe_ratio"
   ]
  },
  {
   "cell_type": "markdown",
   "metadata": {},
   "source": [
    "# MA\n",
    "### Simple Moving Average (SMA)"
   ]
  },
  {
   "cell_type": "code",
   "execution_count": 154,
   "metadata": {},
   "outputs": [],
   "source": [
    "window = 3\n",
    "# min_periods = 1 let the ma starting with first month\n",
    "SMA1 = \"SMA-\"+str(window)\n",
    "data_historical[SMA1] = data_historical['Adj Close'].rolling(window,min_periods=1).mean()"
   ]
  },
  {
   "cell_type": "code",
   "execution_count": 155,
   "metadata": {},
   "outputs": [],
   "source": [
    "window = 20\n",
    "SMA2 = \"SMA-\"+str(window)\n",
    "data_historical[SMA2] = data_historical['Adj Close'].rolling(window,min_periods=1).mean()"
   ]
  },
  {
   "cell_type": "markdown",
   "metadata": {},
   "source": [
    "### Exponential Movining Average (EMA)"
   ]
  },
  {
   "cell_type": "code",
   "execution_count": 156,
   "metadata": {},
   "outputs": [],
   "source": [
    "alpha = 0.1\n",
    "data_historical['EMA_'+str(alpha)] = data_historical['Adj Close'].ewm(alpha=alpha, adjust=False).mean()"
   ]
  },
  {
   "cell_type": "code",
   "execution_count": 157,
   "metadata": {},
   "outputs": [],
   "source": [
    "alpha = 0.5\n",
    "data_historical['EMA_'+str(alpha)] = data_historical['Adj Close'].ewm(alpha=alpha, adjust=False).mean()"
   ]
  },
  {
   "cell_type": "markdown",
   "metadata": {},
   "source": [
    "# Trend Following Strategy"
   ]
  },
  {
   "cell_type": "code",
   "execution_count": 164,
   "metadata": {},
   "outputs": [],
   "source": [
    "# Shift to the future by one day so that everyday uses the information up to \n",
    "# yesterday to make a trading decision for tmr\n",
    "data_historical['SMA-3_shift_1d'] = data_historical['SMA-3'].shift(1)\n",
    "data_historical['SMA-20_shift_1d'] = data_historical['SMA-20'].shift(1)"
   ]
  },
  {
   "cell_type": "code",
   "execution_count": 165,
   "metadata": {},
   "outputs": [],
   "source": [
    "# identify buy signal\n",
    "data_historical['signal'] = np.where(data_historical['SMA-3_shift_1d'] > data_historical['SMA-20_shift_1d'], 1, 0)\n",
    "# identify sell signal\n",
    "data_historical['signal'] = np.where(data_historical['SMA-3_shift_1d'] < data_historical['SMA-20_shift_1d'], -1, data_historical['signal'])"
   ]
  },
  {
   "cell_type": "code",
   "execution_count": 166,
   "metadata": {},
   "outputs": [
    {
     "data": {
      "text/plain": [
       "signal\n",
       " 1    3713\n",
       "-1    2664\n",
       " 0       4\n",
       "Name: count, dtype: int64"
      ]
     },
     "execution_count": 166,
     "metadata": {},
     "output_type": "execute_result"
    }
   ],
   "source": [
    "data_historical['signal'].value_counts()"
   ]
  },
  {
   "cell_type": "code",
   "execution_count": 170,
   "metadata": {},
   "outputs": [
    {
     "data": {
      "text/html": [
       "<div>\n",
       "<style scoped>\n",
       "    .dataframe tbody tr th:only-of-type {\n",
       "        vertical-align: middle;\n",
       "    }\n",
       "\n",
       "    .dataframe tbody tr th {\n",
       "        vertical-align: top;\n",
       "    }\n",
       "\n",
       "    .dataframe thead th {\n",
       "        text-align: right;\n",
       "    }\n",
       "</style>\n",
       "<table border=\"1\" class=\"dataframe\">\n",
       "  <thead>\n",
       "    <tr style=\"text-align: right;\">\n",
       "      <th></th>\n",
       "      <th>Open</th>\n",
       "      <th>High</th>\n",
       "      <th>Low</th>\n",
       "      <th>Close</th>\n",
       "      <th>Adj Close</th>\n",
       "      <th>Volume</th>\n",
       "      <th>Dividends</th>\n",
       "      <th>Stock Splits</th>\n",
       "      <th>RSI</th>\n",
       "      <th>BB_upper</th>\n",
       "      <th>...</th>\n",
       "      <th>MACD_signal</th>\n",
       "      <th>pct_change</th>\n",
       "      <th>SMA-3</th>\n",
       "      <th>SMA-20</th>\n",
       "      <th>EMA_0.1</th>\n",
       "      <th>EMA_0.5</th>\n",
       "      <th>SMA-3_shift_1d</th>\n",
       "      <th>SMA-20_shift_1d</th>\n",
       "      <th>signal</th>\n",
       "      <th>log_return_buy_n_hold</th>\n",
       "    </tr>\n",
       "    <tr>\n",
       "      <th>Date</th>\n",
       "      <th></th>\n",
       "      <th></th>\n",
       "      <th></th>\n",
       "      <th></th>\n",
       "      <th></th>\n",
       "      <th></th>\n",
       "      <th></th>\n",
       "      <th></th>\n",
       "      <th></th>\n",
       "      <th></th>\n",
       "      <th></th>\n",
       "      <th></th>\n",
       "      <th></th>\n",
       "      <th></th>\n",
       "      <th></th>\n",
       "      <th></th>\n",
       "      <th></th>\n",
       "      <th></th>\n",
       "      <th></th>\n",
       "      <th></th>\n",
       "      <th></th>\n",
       "    </tr>\n",
       "  </thead>\n",
       "  <tbody>\n",
       "    <tr>\n",
       "      <th>1999-01-22</th>\n",
       "      <td>0.437500</td>\n",
       "      <td>0.488281</td>\n",
       "      <td>0.388021</td>\n",
       "      <td>0.410156</td>\n",
       "      <td>0.376237</td>\n",
       "      <td>271468800</td>\n",
       "      <td>0.0</td>\n",
       "      <td>0.0</td>\n",
       "      <td>NaN</td>\n",
       "      <td>NaN</td>\n",
       "      <td>...</td>\n",
       "      <td>NaN</td>\n",
       "      <td>NaN</td>\n",
       "      <td>0.376237</td>\n",
       "      <td>0.376237</td>\n",
       "      <td>0.376237</td>\n",
       "      <td>0.376237</td>\n",
       "      <td>NaN</td>\n",
       "      <td>NaN</td>\n",
       "      <td>0</td>\n",
       "      <td>NaN</td>\n",
       "    </tr>\n",
       "    <tr>\n",
       "      <th>1999-01-25</th>\n",
       "      <td>0.442708</td>\n",
       "      <td>0.458333</td>\n",
       "      <td>0.410156</td>\n",
       "      <td>0.453125</td>\n",
       "      <td>0.415653</td>\n",
       "      <td>51048000</td>\n",
       "      <td>0.0</td>\n",
       "      <td>0.0</td>\n",
       "      <td>NaN</td>\n",
       "      <td>NaN</td>\n",
       "      <td>...</td>\n",
       "      <td>NaN</td>\n",
       "      <td>0.104763</td>\n",
       "      <td>0.395945</td>\n",
       "      <td>0.395945</td>\n",
       "      <td>0.380179</td>\n",
       "      <td>0.395945</td>\n",
       "      <td>0.376237</td>\n",
       "      <td>0.376237</td>\n",
       "      <td>0</td>\n",
       "      <td>0.099631</td>\n",
       "    </tr>\n",
       "    <tr>\n",
       "      <th>1999-01-26</th>\n",
       "      <td>0.458333</td>\n",
       "      <td>0.467448</td>\n",
       "      <td>0.411458</td>\n",
       "      <td>0.417969</td>\n",
       "      <td>0.383404</td>\n",
       "      <td>34320000</td>\n",
       "      <td>0.0</td>\n",
       "      <td>0.0</td>\n",
       "      <td>NaN</td>\n",
       "      <td>NaN</td>\n",
       "      <td>...</td>\n",
       "      <td>NaN</td>\n",
       "      <td>-0.077586</td>\n",
       "      <td>0.391764</td>\n",
       "      <td>0.391764</td>\n",
       "      <td>0.380501</td>\n",
       "      <td>0.389674</td>\n",
       "      <td>0.395945</td>\n",
       "      <td>0.395945</td>\n",
       "      <td>0</td>\n",
       "      <td>-0.080761</td>\n",
       "    </tr>\n",
       "    <tr>\n",
       "      <th>1999-01-27</th>\n",
       "      <td>0.419271</td>\n",
       "      <td>0.429688</td>\n",
       "      <td>0.395833</td>\n",
       "      <td>0.416667</td>\n",
       "      <td>0.382210</td>\n",
       "      <td>24436800</td>\n",
       "      <td>0.0</td>\n",
       "      <td>0.0</td>\n",
       "      <td>NaN</td>\n",
       "      <td>NaN</td>\n",
       "      <td>...</td>\n",
       "      <td>NaN</td>\n",
       "      <td>-0.003115</td>\n",
       "      <td>0.393755</td>\n",
       "      <td>0.389376</td>\n",
       "      <td>0.380672</td>\n",
       "      <td>0.385942</td>\n",
       "      <td>0.391764</td>\n",
       "      <td>0.391764</td>\n",
       "      <td>0</td>\n",
       "      <td>-0.003120</td>\n",
       "    </tr>\n",
       "    <tr>\n",
       "      <th>1999-01-28</th>\n",
       "      <td>0.416667</td>\n",
       "      <td>0.419271</td>\n",
       "      <td>0.412760</td>\n",
       "      <td>0.415365</td>\n",
       "      <td>0.381015</td>\n",
       "      <td>22752000</td>\n",
       "      <td>0.0</td>\n",
       "      <td>0.0</td>\n",
       "      <td>NaN</td>\n",
       "      <td>NaN</td>\n",
       "      <td>...</td>\n",
       "      <td>NaN</td>\n",
       "      <td>-0.003125</td>\n",
       "      <td>0.382210</td>\n",
       "      <td>0.387704</td>\n",
       "      <td>0.380706</td>\n",
       "      <td>0.383479</td>\n",
       "      <td>0.393755</td>\n",
       "      <td>0.389376</td>\n",
       "      <td>1</td>\n",
       "      <td>-0.003130</td>\n",
       "    </tr>\n",
       "  </tbody>\n",
       "</table>\n",
       "<p>5 rows × 22 columns</p>\n",
       "</div>"
      ],
      "text/plain": [
       "                Open      High       Low     Close  Adj Close     Volume  \\\n",
       "Date                                                                       \n",
       "1999-01-22  0.437500  0.488281  0.388021  0.410156   0.376237  271468800   \n",
       "1999-01-25  0.442708  0.458333  0.410156  0.453125   0.415653   51048000   \n",
       "1999-01-26  0.458333  0.467448  0.411458  0.417969   0.383404   34320000   \n",
       "1999-01-27  0.419271  0.429688  0.395833  0.416667   0.382210   24436800   \n",
       "1999-01-28  0.416667  0.419271  0.412760  0.415365   0.381015   22752000   \n",
       "\n",
       "            Dividends  Stock Splits  RSI  BB_upper  ...  MACD_signal  \\\n",
       "Date                                                ...                \n",
       "1999-01-22        0.0           0.0  NaN       NaN  ...          NaN   \n",
       "1999-01-25        0.0           0.0  NaN       NaN  ...          NaN   \n",
       "1999-01-26        0.0           0.0  NaN       NaN  ...          NaN   \n",
       "1999-01-27        0.0           0.0  NaN       NaN  ...          NaN   \n",
       "1999-01-28        0.0           0.0  NaN       NaN  ...          NaN   \n",
       "\n",
       "            pct_change     SMA-3    SMA-20   EMA_0.1   EMA_0.5  \\\n",
       "Date                                                             \n",
       "1999-01-22         NaN  0.376237  0.376237  0.376237  0.376237   \n",
       "1999-01-25    0.104763  0.395945  0.395945  0.380179  0.395945   \n",
       "1999-01-26   -0.077586  0.391764  0.391764  0.380501  0.389674   \n",
       "1999-01-27   -0.003115  0.393755  0.389376  0.380672  0.385942   \n",
       "1999-01-28   -0.003125  0.382210  0.387704  0.380706  0.383479   \n",
       "\n",
       "            SMA-3_shift_1d  SMA-20_shift_1d  signal  log_return_buy_n_hold  \n",
       "Date                                                                        \n",
       "1999-01-22             NaN              NaN       0                    NaN  \n",
       "1999-01-25        0.376237         0.376237       0               0.099631  \n",
       "1999-01-26        0.395945         0.395945       0              -0.080761  \n",
       "1999-01-27        0.391764         0.391764       0              -0.003120  \n",
       "1999-01-28        0.393755         0.389376       1              -0.003130  \n",
       "\n",
       "[5 rows x 22 columns]"
      ]
     },
     "execution_count": 170,
     "metadata": {},
     "output_type": "execute_result"
    }
   ],
   "source": [
    "# calculate instantaneous log return for buy-and-hold straetegy as benchmark\n",
    "data_historical['log_return_buy_n_hold'] = np.log(data_historical['Adj Close']).diff()\n",
    "data_historical.head()"
   ]
  },
  {
   "cell_type": "code",
   "execution_count": 171,
   "metadata": {},
   "outputs": [
    {
     "data": {
      "text/html": [
       "<div>\n",
       "<style scoped>\n",
       "    .dataframe tbody tr th:only-of-type {\n",
       "        vertical-align: middle;\n",
       "    }\n",
       "\n",
       "    .dataframe tbody tr th {\n",
       "        vertical-align: top;\n",
       "    }\n",
       "\n",
       "    .dataframe thead th {\n",
       "        text-align: right;\n",
       "    }\n",
       "</style>\n",
       "<table border=\"1\" class=\"dataframe\">\n",
       "  <thead>\n",
       "    <tr style=\"text-align: right;\">\n",
       "      <th></th>\n",
       "      <th>Open</th>\n",
       "      <th>High</th>\n",
       "      <th>Low</th>\n",
       "      <th>Close</th>\n",
       "      <th>Adj Close</th>\n",
       "      <th>Volume</th>\n",
       "      <th>Dividends</th>\n",
       "      <th>Stock Splits</th>\n",
       "      <th>RSI</th>\n",
       "      <th>BB_upper</th>\n",
       "      <th>...</th>\n",
       "      <th>pct_change</th>\n",
       "      <th>SMA-3</th>\n",
       "      <th>SMA-20</th>\n",
       "      <th>EMA_0.1</th>\n",
       "      <th>EMA_0.5</th>\n",
       "      <th>SMA-3_shift_1d</th>\n",
       "      <th>SMA-20_shift_1d</th>\n",
       "      <th>signal</th>\n",
       "      <th>log_return_buy_n_hold</th>\n",
       "      <th>log_return_trend_follow</th>\n",
       "    </tr>\n",
       "    <tr>\n",
       "      <th>Date</th>\n",
       "      <th></th>\n",
       "      <th></th>\n",
       "      <th></th>\n",
       "      <th></th>\n",
       "      <th></th>\n",
       "      <th></th>\n",
       "      <th></th>\n",
       "      <th></th>\n",
       "      <th></th>\n",
       "      <th></th>\n",
       "      <th></th>\n",
       "      <th></th>\n",
       "      <th></th>\n",
       "      <th></th>\n",
       "      <th></th>\n",
       "      <th></th>\n",
       "      <th></th>\n",
       "      <th></th>\n",
       "      <th></th>\n",
       "      <th></th>\n",
       "      <th></th>\n",
       "    </tr>\n",
       "  </thead>\n",
       "  <tbody>\n",
       "    <tr>\n",
       "      <th>1999-01-22</th>\n",
       "      <td>0.437500</td>\n",
       "      <td>0.488281</td>\n",
       "      <td>0.388021</td>\n",
       "      <td>0.410156</td>\n",
       "      <td>0.376237</td>\n",
       "      <td>271468800</td>\n",
       "      <td>0.0</td>\n",
       "      <td>0.0</td>\n",
       "      <td>NaN</td>\n",
       "      <td>NaN</td>\n",
       "      <td>...</td>\n",
       "      <td>NaN</td>\n",
       "      <td>0.376237</td>\n",
       "      <td>0.376237</td>\n",
       "      <td>0.376237</td>\n",
       "      <td>0.376237</td>\n",
       "      <td>NaN</td>\n",
       "      <td>NaN</td>\n",
       "      <td>0</td>\n",
       "      <td>NaN</td>\n",
       "      <td>NaN</td>\n",
       "    </tr>\n",
       "    <tr>\n",
       "      <th>1999-01-25</th>\n",
       "      <td>0.442708</td>\n",
       "      <td>0.458333</td>\n",
       "      <td>0.410156</td>\n",
       "      <td>0.453125</td>\n",
       "      <td>0.415653</td>\n",
       "      <td>51048000</td>\n",
       "      <td>0.0</td>\n",
       "      <td>0.0</td>\n",
       "      <td>NaN</td>\n",
       "      <td>NaN</td>\n",
       "      <td>...</td>\n",
       "      <td>0.104763</td>\n",
       "      <td>0.395945</td>\n",
       "      <td>0.395945</td>\n",
       "      <td>0.380179</td>\n",
       "      <td>0.395945</td>\n",
       "      <td>0.376237</td>\n",
       "      <td>0.376237</td>\n",
       "      <td>0</td>\n",
       "      <td>0.099631</td>\n",
       "      <td>0.00000</td>\n",
       "    </tr>\n",
       "    <tr>\n",
       "      <th>1999-01-26</th>\n",
       "      <td>0.458333</td>\n",
       "      <td>0.467448</td>\n",
       "      <td>0.411458</td>\n",
       "      <td>0.417969</td>\n",
       "      <td>0.383404</td>\n",
       "      <td>34320000</td>\n",
       "      <td>0.0</td>\n",
       "      <td>0.0</td>\n",
       "      <td>NaN</td>\n",
       "      <td>NaN</td>\n",
       "      <td>...</td>\n",
       "      <td>-0.077586</td>\n",
       "      <td>0.391764</td>\n",
       "      <td>0.391764</td>\n",
       "      <td>0.380501</td>\n",
       "      <td>0.389674</td>\n",
       "      <td>0.395945</td>\n",
       "      <td>0.395945</td>\n",
       "      <td>0</td>\n",
       "      <td>-0.080761</td>\n",
       "      <td>-0.00000</td>\n",
       "    </tr>\n",
       "    <tr>\n",
       "      <th>1999-01-27</th>\n",
       "      <td>0.419271</td>\n",
       "      <td>0.429688</td>\n",
       "      <td>0.395833</td>\n",
       "      <td>0.416667</td>\n",
       "      <td>0.382210</td>\n",
       "      <td>24436800</td>\n",
       "      <td>0.0</td>\n",
       "      <td>0.0</td>\n",
       "      <td>NaN</td>\n",
       "      <td>NaN</td>\n",
       "      <td>...</td>\n",
       "      <td>-0.003115</td>\n",
       "      <td>0.393755</td>\n",
       "      <td>0.389376</td>\n",
       "      <td>0.380672</td>\n",
       "      <td>0.385942</td>\n",
       "      <td>0.391764</td>\n",
       "      <td>0.391764</td>\n",
       "      <td>0</td>\n",
       "      <td>-0.003120</td>\n",
       "      <td>-0.00000</td>\n",
       "    </tr>\n",
       "    <tr>\n",
       "      <th>1999-01-28</th>\n",
       "      <td>0.416667</td>\n",
       "      <td>0.419271</td>\n",
       "      <td>0.412760</td>\n",
       "      <td>0.415365</td>\n",
       "      <td>0.381015</td>\n",
       "      <td>22752000</td>\n",
       "      <td>0.0</td>\n",
       "      <td>0.0</td>\n",
       "      <td>NaN</td>\n",
       "      <td>NaN</td>\n",
       "      <td>...</td>\n",
       "      <td>-0.003125</td>\n",
       "      <td>0.382210</td>\n",
       "      <td>0.387704</td>\n",
       "      <td>0.380706</td>\n",
       "      <td>0.383479</td>\n",
       "      <td>0.393755</td>\n",
       "      <td>0.389376</td>\n",
       "      <td>1</td>\n",
       "      <td>-0.003130</td>\n",
       "      <td>-0.00313</td>\n",
       "    </tr>\n",
       "  </tbody>\n",
       "</table>\n",
       "<p>5 rows × 23 columns</p>\n",
       "</div>"
      ],
      "text/plain": [
       "                Open      High       Low     Close  Adj Close     Volume  \\\n",
       "Date                                                                       \n",
       "1999-01-22  0.437500  0.488281  0.388021  0.410156   0.376237  271468800   \n",
       "1999-01-25  0.442708  0.458333  0.410156  0.453125   0.415653   51048000   \n",
       "1999-01-26  0.458333  0.467448  0.411458  0.417969   0.383404   34320000   \n",
       "1999-01-27  0.419271  0.429688  0.395833  0.416667   0.382210   24436800   \n",
       "1999-01-28  0.416667  0.419271  0.412760  0.415365   0.381015   22752000   \n",
       "\n",
       "            Dividends  Stock Splits  RSI  BB_upper  ...  pct_change     SMA-3  \\\n",
       "Date                                                ...                         \n",
       "1999-01-22        0.0           0.0  NaN       NaN  ...         NaN  0.376237   \n",
       "1999-01-25        0.0           0.0  NaN       NaN  ...    0.104763  0.395945   \n",
       "1999-01-26        0.0           0.0  NaN       NaN  ...   -0.077586  0.391764   \n",
       "1999-01-27        0.0           0.0  NaN       NaN  ...   -0.003115  0.393755   \n",
       "1999-01-28        0.0           0.0  NaN       NaN  ...   -0.003125  0.382210   \n",
       "\n",
       "              SMA-20   EMA_0.1   EMA_0.5  SMA-3_shift_1d  SMA-20_shift_1d  \\\n",
       "Date                                                                        \n",
       "1999-01-22  0.376237  0.376237  0.376237             NaN              NaN   \n",
       "1999-01-25  0.395945  0.380179  0.395945        0.376237         0.376237   \n",
       "1999-01-26  0.391764  0.380501  0.389674        0.395945         0.395945   \n",
       "1999-01-27  0.389376  0.380672  0.385942        0.391764         0.391764   \n",
       "1999-01-28  0.387704  0.380706  0.383479        0.393755         0.389376   \n",
       "\n",
       "            signal  log_return_buy_n_hold  log_return_trend_follow  \n",
       "Date                                                                \n",
       "1999-01-22       0                    NaN                      NaN  \n",
       "1999-01-25       0               0.099631                  0.00000  \n",
       "1999-01-26       0              -0.080761                 -0.00000  \n",
       "1999-01-27       0              -0.003120                 -0.00000  \n",
       "1999-01-28       1              -0.003130                 -0.00313  \n",
       "\n",
       "[5 rows x 23 columns]"
      ]
     },
     "execution_count": 171,
     "metadata": {},
     "output_type": "execute_result"
    }
   ],
   "source": [
    "# calculate instantaneous log return for trend following straetegy\n",
    "data_historical['log_return_trend_follow'] = data_historical['signal'] * data_historical['log_return_buy_n_hold']\n",
    "data_historical.head()"
   ]
  },
  {
   "cell_type": "code",
   "execution_count": 172,
   "metadata": {},
   "outputs": [
    {
     "data": {
      "text/plain": [
       "action\n",
       " 0.0    5909\n",
       "-2.0     235\n",
       " 2.0     235\n",
       " 1.0       1\n",
       "Name: count, dtype: int64"
      ]
     },
     "execution_count": 172,
     "metadata": {},
     "output_type": "execute_result"
    }
   ],
   "source": [
    "# derive trading action at each time step; 2 is buy, -2 is sell\n",
    "data_historical['action'] = data_historical.signal.diff()\n",
    "data_historical['action'].value_counts()"
   ]
  },
  {
   "cell_type": "code",
   "execution_count": 176,
   "metadata": {},
   "outputs": [
    {
     "data": {
      "image/png": "[encoded data removed]",
      "text/plain": [
       "<Figure size 640x480 with 1 Axes>"
      ]
     },
     "metadata": {},
     "output_type": "display_data"
    }
   ],
   "source": [
    "# plot cumulative return\n",
    "plt.plot(np.exp(data_historical['log_return_buy_n_hold']).cumprod(), label='Buy-n-hold')\n",
    "plt.plot(np.exp(data_historical['log_return_trend_follow']).cumprod(), label='Trend following')\n",
    "plt.legend(loc=2)\n",
    "plt.title(\"Cumulative return of different trading strategies\")\n",
    "plt.grid(True, alpha=.3)"
   ]
  },
  {
   "cell_type": "code",
   "execution_count": 177,
   "metadata": {},
   "outputs": [
    {
     "name": "stderr",
     "output_type": "stream",
     "text": [
      "/var/folders/52/kchtcfps56z19pkp2v4c184r0000gn/T/ipykernel_79478/2624439245.py:2: FutureWarning: Series.__getitem__ treating keys as positions is deprecated. In a future version, integer keys will always be treated as labels (consistent with DataFrame behavior). To access a value by position, use `ser.iloc[pos]`\n",
      "  np.exp(data_historical['log_return_buy_n_hold']).cumprod()[-1] -1\n"
     ]
    },
    {
     "data": {
      "text/plain": [
       "2912.934412347992"
      ]
     },
     "execution_count": 177,
     "metadata": {},
     "output_type": "execute_result"
    }
   ],
   "source": [
    "# terminal return of buy-n-hold\n",
    "np.exp(data_historical['log_return_buy_n_hold']).cumprod()[-1] -1"
   ]
  },
  {
   "cell_type": "code",
   "execution_count": 178,
   "metadata": {},
   "outputs": [
    {
     "name": "stderr",
     "output_type": "stream",
     "text": [
      "/var/folders/52/kchtcfps56z19pkp2v4c184r0000gn/T/ipykernel_79478/3517869642.py:2: FutureWarning: Series.__getitem__ treating keys as positions is deprecated. In a future version, integer keys will always be treated as labels (consistent with DataFrame behavior). To access a value by position, use `ser.iloc[pos]`\n",
      "  np.exp(data_historical['log_return_trend_follow']).cumprod()[-1] -1\n"
     ]
    },
    {
     "data": {
      "text/plain": [
       "106.63529086576861"
      ]
     },
     "execution_count": 178,
     "metadata": {},
     "output_type": "execute_result"
    }
   ],
   "source": [
    "# terminal return of trend following\n",
    "np.exp(data_historical['log_return_trend_follow']).cumprod()[-1] -1"
   ]
  },
  {
   "cell_type": "code",
   "execution_count": null,
   "metadata": {},
   "outputs": [],
   "source": []
  }
 ],
 "metadata": {
  "kernelspec": {
   "display_name": ".venv",
   "language": "python",
   "name": "python3"
  },
  "language_info": {
   "codemirror_mode": {
    "name": "ipython",
    "version": 3
   },
   "file_extension": ".py",
   "mimetype": "text/x-python",
   "name": "python",
   "nbconvert_exporter": "python",
   "pygments_lexer": "ipython3",
   "version": "3.10.11"
  }
 },
 "nbformat": 4,
 "nbformat_minor": 2
}
